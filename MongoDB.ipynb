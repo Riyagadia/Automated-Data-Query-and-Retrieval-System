{
 "cells": [
  {
   "cell_type": "code",
   "execution_count": 17,
   "id": "85fee659",
   "metadata": {},
   "outputs": [],
   "source": [
    "import pandas as pd\n",
    "import numpy as np\n",
    "import warnings\n",
    "warnings.filterwarnings ('ignore')\n",
    "%matplotlib inline"
   ]
  },
  {
   "cell_type": "code",
   "execution_count": 18,
   "id": "118cf2c5",
   "metadata": {},
   "outputs": [
    {
     "data": {
      "text/html": [
       "<div>\n",
       "<style scoped>\n",
       "    .dataframe tbody tr th:only-of-type {\n",
       "        vertical-align: middle;\n",
       "    }\n",
       "\n",
       "    .dataframe tbody tr th {\n",
       "        vertical-align: top;\n",
       "    }\n",
       "\n",
       "    .dataframe thead th {\n",
       "        text-align: right;\n",
       "    }\n",
       "</style>\n",
       "<table border=\"1\" class=\"dataframe\">\n",
       "  <thead>\n",
       "    <tr style=\"text-align: right;\">\n",
       "      <th></th>\n",
       "      <th>ProductID</th>\n",
       "      <th>ProductName</th>\n",
       "      <th>Category</th>\n",
       "      <th>Price</th>\n",
       "      <th>Rating</th>\n",
       "      <th>ReviewCount</th>\n",
       "      <th>Stock</th>\n",
       "      <th>Discount</th>\n",
       "      <th>Brand</th>\n",
       "      <th>LaunchDate</th>\n",
       "    </tr>\n",
       "  </thead>\n",
       "  <tbody>\n",
       "    <tr>\n",
       "      <th>0</th>\n",
       "      <td>101</td>\n",
       "      <td>Wireless Mouse</td>\n",
       "      <td>Electronics</td>\n",
       "      <td>25.99</td>\n",
       "      <td>4.5</td>\n",
       "      <td>200</td>\n",
       "      <td>150</td>\n",
       "      <td>10%</td>\n",
       "      <td>Logitech</td>\n",
       "      <td>15-01-2022</td>\n",
       "    </tr>\n",
       "    <tr>\n",
       "      <th>1</th>\n",
       "      <td>102</td>\n",
       "      <td>Gaming Keyboard</td>\n",
       "      <td>Electronics</td>\n",
       "      <td>75.49</td>\n",
       "      <td>4.7</td>\n",
       "      <td>350</td>\n",
       "      <td>85</td>\n",
       "      <td>5%</td>\n",
       "      <td>Corsair</td>\n",
       "      <td>20-11-2021</td>\n",
       "    </tr>\n",
       "    <tr>\n",
       "      <th>2</th>\n",
       "      <td>103</td>\n",
       "      <td>Noise Cancelling Headphones</td>\n",
       "      <td>Electronics</td>\n",
       "      <td>199.99</td>\n",
       "      <td>4.8</td>\n",
       "      <td>125</td>\n",
       "      <td>60</td>\n",
       "      <td>15%</td>\n",
       "      <td>Sony</td>\n",
       "      <td>05-09-2021</td>\n",
       "    </tr>\n",
       "    <tr>\n",
       "      <th>3</th>\n",
       "      <td>104</td>\n",
       "      <td>Running Shoes</td>\n",
       "      <td>Sports</td>\n",
       "      <td>49.99</td>\n",
       "      <td>4.3</td>\n",
       "      <td>500</td>\n",
       "      <td>200</td>\n",
       "      <td>20%</td>\n",
       "      <td>Nike</td>\n",
       "      <td>10-02-2022</td>\n",
       "    </tr>\n",
       "    <tr>\n",
       "      <th>4</th>\n",
       "      <td>105</td>\n",
       "      <td>Smartwatch</td>\n",
       "      <td>Electronics</td>\n",
       "      <td>159.99</td>\n",
       "      <td>4.6</td>\n",
       "      <td>220</td>\n",
       "      <td>45</td>\n",
       "      <td>10%</td>\n",
       "      <td>Apple</td>\n",
       "      <td>30-03-2022</td>\n",
       "    </tr>\n",
       "    <tr>\n",
       "      <th>5</th>\n",
       "      <td>106</td>\n",
       "      <td>Blender</td>\n",
       "      <td>Home &amp; Kitchen</td>\n",
       "      <td>39.99</td>\n",
       "      <td>4.2</td>\n",
       "      <td>180</td>\n",
       "      <td>120</td>\n",
       "      <td>12%</td>\n",
       "      <td>Ninja</td>\n",
       "      <td>25-12-2021</td>\n",
       "    </tr>\n",
       "    <tr>\n",
       "      <th>6</th>\n",
       "      <td>107</td>\n",
       "      <td>Coffee Maker</td>\n",
       "      <td>Home &amp; Kitchen</td>\n",
       "      <td>89.99</td>\n",
       "      <td>4.1</td>\n",
       "      <td>240</td>\n",
       "      <td>90</td>\n",
       "      <td>8%</td>\n",
       "      <td>Keurig</td>\n",
       "      <td>15-08-2021</td>\n",
       "    </tr>\n",
       "    <tr>\n",
       "      <th>7</th>\n",
       "      <td>108</td>\n",
       "      <td>Yoga Mat</td>\n",
       "      <td>Sports</td>\n",
       "      <td>29.99</td>\n",
       "      <td>4.4</td>\n",
       "      <td>320</td>\n",
       "      <td>300</td>\n",
       "      <td>5%</td>\n",
       "      <td>Manduka</td>\n",
       "      <td>05-01-2022</td>\n",
       "    </tr>\n",
       "    <tr>\n",
       "      <th>8</th>\n",
       "      <td>109</td>\n",
       "      <td>Smart TV</td>\n",
       "      <td>Electronics</td>\n",
       "      <td>399.99</td>\n",
       "      <td>4.7</td>\n",
       "      <td>150</td>\n",
       "      <td>25</td>\n",
       "      <td>15%</td>\n",
       "      <td>Samsung</td>\n",
       "      <td>10-06-2022</td>\n",
       "    </tr>\n",
       "    <tr>\n",
       "      <th>9</th>\n",
       "      <td>110</td>\n",
       "      <td>Vacuum Cleaner</td>\n",
       "      <td>Home &amp; Kitchen</td>\n",
       "      <td>129.99</td>\n",
       "      <td>4.3</td>\n",
       "      <td>290</td>\n",
       "      <td>70</td>\n",
       "      <td>10%</td>\n",
       "      <td>Dyson</td>\n",
       "      <td>20-10-2021</td>\n",
       "    </tr>\n",
       "  </tbody>\n",
       "</table>\n",
       "</div>"
      ],
      "text/plain": [
       "   ProductID                  ProductName        Category   Price  Rating  \\\n",
       "0        101               Wireless Mouse     Electronics   25.99     4.5   \n",
       "1        102              Gaming Keyboard     Electronics   75.49     4.7   \n",
       "2        103  Noise Cancelling Headphones     Electronics  199.99     4.8   \n",
       "3        104                Running Shoes          Sports   49.99     4.3   \n",
       "4        105                   Smartwatch     Electronics  159.99     4.6   \n",
       "5        106                      Blender  Home & Kitchen   39.99     4.2   \n",
       "6        107                 Coffee Maker  Home & Kitchen   89.99     4.1   \n",
       "7        108                     Yoga Mat          Sports   29.99     4.4   \n",
       "8        109                     Smart TV     Electronics  399.99     4.7   \n",
       "9        110               Vacuum Cleaner  Home & Kitchen  129.99     4.3   \n",
       "\n",
       "   ReviewCount  Stock Discount     Brand  LaunchDate  \n",
       "0          200    150      10%  Logitech  15-01-2022  \n",
       "1          350     85       5%   Corsair  20-11-2021  \n",
       "2          125     60      15%      Sony  05-09-2021  \n",
       "3          500    200      20%      Nike  10-02-2022  \n",
       "4          220     45      10%     Apple  30-03-2022  \n",
       "5          180    120      12%     Ninja  25-12-2021  \n",
       "6          240     90       8%    Keurig  15-08-2021  \n",
       "7          320    300       5%   Manduka  05-01-2022  \n",
       "8          150     25      15%   Samsung  10-06-2022  \n",
       "9          290     70      10%     Dyson  20-10-2021  "
      ]
     },
     "execution_count": 18,
     "metadata": {},
     "output_type": "execute_result"
    }
   ],
   "source": [
    "df = pd.set_option('display.max_rows', None)\n",
    "pd.set_option('display.max_columns',None)\n",
    "df = pd.read_csv (\"sample_data.csv\")\n",
    "df\n"
   ]
  },
  {
   "cell_type": "markdown",
   "id": "6e6751dd",
   "metadata": {},
   "source": [
    "## Code for Loading CSV into MongoDB:"
   ]
  },
  {
   "cell_type": "code",
   "execution_count": 19,
   "id": "8136d721",
   "metadata": {},
   "outputs": [
    {
     "name": "stdout",
     "output_type": "stream",
     "text": [
      "Inserted 10 documents into MongoDB.\n"
     ]
    }
   ],
   "source": [
    "from pymongo import MongoClient\n",
    "\n",
    "# Establish MongoDB connection (assuming MongoDB is running locally on default port)\n",
    "client = MongoClient('mongodb://localhost:27017/')\n",
    "db = client['product_db']  # Create or access the 'product_db' database\n",
    "collection = db['products']  # Create or access the 'products' collection\n",
    "\n",
    "# Convert the 'LaunchDate' to a standard date format and convert the discount to numeric\n",
    "df['LaunchDate'] = pd.to_datetime(df['LaunchDate'], format='%d-%m-%Y', errors='coerce')\n",
    "#df['Discount'] = df['Discount'].str.rstrip('%').astype('float')\n",
    "df['Discount'] = df['Discount'].astype(str).str.rstrip('%').astype(float)\n",
    "\n",
    "\n",
    "# Insert the data into MongoDB\n",
    "collection.delete_many({})  # Clear any existing data in the collection for a fresh insert\n",
    "collection.insert_many(df.to_dict(orient='records'))\n",
    "\n",
    "# Check if the data was inserted successfully\n",
    "collection.count_documents({})  # Returns the number of documents in the collection\n",
    "print(f\"Inserted {collection.count_documents({})} documents into MongoDB.\")"
   ]
  },
  {
   "cell_type": "markdown",
   "id": "59296464",
   "metadata": {},
   "source": [
    "## Generating MongoDB Queries Based on Test Cases:\n"
   ]
  },
  {
   "cell_type": "markdown",
   "id": "cbd691b9",
   "metadata": {},
   "source": [
    "### test case 1 : Find products with a rating below 4.5, more than 200 reviews, and from 'Nike' or 'Sony'."
   ]
  },
  {
   "cell_type": "code",
   "execution_count": 20,
   "id": "64f660ab",
   "metadata": {},
   "outputs": [],
   "source": [
    "query = {\"Rating\": {\"$lt\": 4.5}, \"ReviewCount\": {\"$gt\": 200}, \"Brand\": {\"$in\": [\"Nike\", \"Sony\"]}}"
   ]
  },
  {
   "cell_type": "markdown",
   "id": "381a11d3",
   "metadata": {},
   "source": [
    "### test case 2 :Find products in the 'Electronics' category with a rating of 4.5 or higher and in stock."
   ]
  },
  {
   "cell_type": "code",
   "execution_count": 21,
   "id": "94c9525f",
   "metadata": {},
   "outputs": [],
   "source": [
    "query = {\"Category\": \"Electronics\", \"Rating\": {\"$gte\": 4.5}, \"Stock\": {\"$gt\": 0}}"
   ]
  },
  {
   "cell_type": "markdown",
   "id": "c3388feb",
   "metadata": {},
   "source": [
    "### test case 3:  List products launched after January 1, 2022, in 'Home & Kitchen' or 'Sports' with a discount of 10% or more, sorted by price (descending)."
   ]
  },
  {
   "cell_type": "code",
   "execution_count": 22,
   "id": "8f550247",
   "metadata": {},
   "outputs": [],
   "source": [
    "query = {\"LaunchDate\": {\"$gt\": pd.Timestamp('2022-01-01')}, \n",
    "         \"Category\": {\"$in\": [\"Home & Kitchen\", \"Sports\"]}, \n",
    "         \"Discount\": {\"$gte\": 10}}\n",
    "sort_criteria = [(\"Price\", -1)]  # Sort by price in descending order\n"
   ]
  },
  {
   "cell_type": "markdown",
   "id": "762b6342",
   "metadata": {},
   "source": [
    "### Retrieving and Saving Data from MongoDB:"
   ]
  },
  {
   "cell_type": "code",
   "execution_count": 23,
   "id": "6dcb3e69",
   "metadata": {},
   "outputs": [
    {
     "name": "stdout",
     "output_type": "stream",
     "text": [
      "Data saved to test_case1.csv\n",
      "Data saved to test_case2.csv\n",
      "Data saved to test_case3.csv\n"
     ]
    }
   ],
   "source": [
    "import csv\n",
    "\n",
    "def retrieve_data(query, collection, sort=None, output_file=None):\n",
    "    result = collection.find(query).sort(sort) if sort else collection.find(query)\n",
    "    data = list(result)\n",
    "    \n",
    "    if output_file:\n",
    "        # Save to CSV\n",
    "        keys = data[0].keys()\n",
    "        with open(output_file, 'w', newline='') as f:\n",
    "            writer = csv.DictWriter(f, fieldnames=keys)\n",
    "            writer.writeheader()\n",
    "            writer.writerows(data)\n",
    "        print(f\"Data saved to {output_file}\")\n",
    "    else:\n",
    "        for item in data:\n",
    "            print(item)\n",
    "\n",
    "# Test Case 1\n",
    "query_1 = {\"Rating\": {\"$lt\": 4.5}, \"ReviewCount\": {\"$gt\": 200}, \"Brand\": {\"$in\": [\"Nike\", \"Sony\"]}}\n",
    "retrieve_data(query_1, collection, output_file=\"test_case1.csv\")\n",
    "\n",
    "# Test Case 2\n",
    "query_2 = {\"Category\": \"Electronics\", \"Rating\": {\"$gte\": 4.5}, \"Stock\": {\"$gt\": 0}}\n",
    "retrieve_data(query_2, collection, output_file=\"test_case2.csv\")\n",
    "\n",
    "# Test Case 3\n",
    "query_3 = {\"LaunchDate\": {\"$gt\": pd.Timestamp('2022-01-01')}, \"Category\": {\"$in\": [\"Home & Kitchen\", \"Sports\"]}, \"Discount\": {\"$gte\": 10}}\n",
    "retrieve_data(query_3, collection, sort=[(\"Price\", -1)], output_file=\"test_case3.csv\")\n"
   ]
  },
  {
   "cell_type": "markdown",
   "id": "8fdf941c",
   "metadata": {},
   "source": [
    "## Visualizing MongoDB Data Using Python"
   ]
  },
  {
   "cell_type": "code",
   "execution_count": 24,
   "id": "1756f8aa",
   "metadata": {},
   "outputs": [
    {
     "data": {
      "image/png": "[encoded data removed]",
      "text/plain": [
       "<Figure size 1000x600 with 1 Axes>"
      ]
     },
     "metadata": {},
     "output_type": "display_data"
    },
    {
     "data": {
      "image/png": "[encoded data removed]",
      "text/plain": [
       "<Figure size 1000x600 with 1 Axes>"
      ]
     },
     "metadata": {},
     "output_type": "display_data"
    }
   ],
   "source": [
    "import matplotlib.pyplot as plt\n",
    "import seaborn as sns\n",
    "\n",
    "# Connect to MongoDB\n",
    "client = MongoClient('mongodb://localhost:27017/')\n",
    "db = client['product_db']\n",
    "collection = db['products']\n",
    "\n",
    "# Query MongoDB and load data into a Pandas DataFrame\n",
    "cursor = collection.find({})\n",
    "df = pd.DataFrame(list(cursor))\n",
    "\n",
    "# Example 1: Visualize the distribution of product ratings\n",
    "plt.figure(figsize=(10, 6))\n",
    "sns.histplot(df['Rating'], bins=20, kde=True)\n",
    "plt.title('Distribution of Product Ratings')\n",
    "plt.xlabel('Rating')\n",
    "plt.ylabel('Frequency')\n",
    "plt.show()\n",
    "\n",
    "# Example 2: Bar plot for average price by category\n",
    "plt.figure(figsize=(10, 6))\n",
    "avg_price_by_category = df.groupby('Category')['Price'].mean()\n",
    "avg_price_by_category.plot(kind='bar', color='skyblue')\n",
    "plt.title('Average Price by Product Category')\n",
    "plt.xlabel('Category')\n",
    "plt.ylabel('Average Price')\n",
    "plt.show()"
   ]
  },
  {
   "cell_type": "markdown",
   "id": "84cc6eb8",
   "metadata": {},
   "source": [
    "### Python based CLI\n"
   ]
  },
  {
   "cell_type": "code",
   "execution_count": 25,
   "id": "62359658",
   "metadata": {},
   "outputs": [
    {
     "name": "stdout",
     "output_type": "stream",
     "text": [
      "Welcome to the Product Query System\n",
      "Enter the column name you want to query: 50\n",
      "Enter the condition (greater than, less than, equal to, matches): 50\n",
      "Enter the value to compare against: 50\n",
      "Generated Query: {}\n",
      "{'_id': ObjectId('66ec77099017aa2bfe2a7863'), 'ProductID': 101, 'ProductName': 'Wireless Mouse', 'Category': 'Electronics', 'Price': 25.99, 'Rating': 4.5, 'ReviewCount': 200, 'Stock': 150, 'Discount': 10.0, 'Brand': 'Logitech', 'LaunchDate': datetime.datetime(2022, 1, 15, 0, 0)}\n",
      "{'_id': ObjectId('66ec77099017aa2bfe2a7864'), 'ProductID': 102, 'ProductName': 'Gaming Keyboard', 'Category': 'Electronics', 'Price': 75.49, 'Rating': 4.7, 'ReviewCount': 350, 'Stock': 85, 'Discount': 5.0, 'Brand': 'Corsair', 'LaunchDate': datetime.datetime(2021, 11, 20, 0, 0)}\n",
      "{'_id': ObjectId('66ec77099017aa2bfe2a7865'), 'ProductID': 103, 'ProductName': 'Noise Cancelling Headphones', 'Category': 'Electronics', 'Price': 199.99, 'Rating': 4.8, 'ReviewCount': 125, 'Stock': 60, 'Discount': 15.0, 'Brand': 'Sony', 'LaunchDate': datetime.datetime(2021, 9, 5, 0, 0)}\n",
      "{'_id': ObjectId('66ec77099017aa2bfe2a7866'), 'ProductID': 104, 'ProductName': 'Running Shoes', 'Category': 'Sports', 'Price': 49.99, 'Rating': 4.3, 'ReviewCount': 500, 'Stock': 200, 'Discount': 20.0, 'Brand': 'Nike', 'LaunchDate': datetime.datetime(2022, 2, 10, 0, 0)}\n",
      "{'_id': ObjectId('66ec77099017aa2bfe2a7867'), 'ProductID': 105, 'ProductName': 'Smartwatch', 'Category': 'Electronics', 'Price': 159.99, 'Rating': 4.6, 'ReviewCount': 220, 'Stock': 45, 'Discount': 10.0, 'Brand': 'Apple', 'LaunchDate': datetime.datetime(2022, 3, 30, 0, 0)}\n",
      "{'_id': ObjectId('66ec77099017aa2bfe2a7868'), 'ProductID': 106, 'ProductName': 'Blender', 'Category': 'Home & Kitchen', 'Price': 39.99, 'Rating': 4.2, 'ReviewCount': 180, 'Stock': 120, 'Discount': 12.0, 'Brand': 'Ninja', 'LaunchDate': datetime.datetime(2021, 12, 25, 0, 0)}\n",
      "{'_id': ObjectId('66ec77099017aa2bfe2a7869'), 'ProductID': 107, 'ProductName': 'Coffee Maker', 'Category': 'Home & Kitchen', 'Price': 89.99, 'Rating': 4.1, 'ReviewCount': 240, 'Stock': 90, 'Discount': 8.0, 'Brand': 'Keurig', 'LaunchDate': datetime.datetime(2021, 8, 15, 0, 0)}\n",
      "{'_id': ObjectId('66ec77099017aa2bfe2a786a'), 'ProductID': 108, 'ProductName': 'Yoga Mat', 'Category': 'Sports', 'Price': 29.99, 'Rating': 4.4, 'ReviewCount': 320, 'Stock': 300, 'Discount': 5.0, 'Brand': 'Manduka', 'LaunchDate': datetime.datetime(2022, 1, 5, 0, 0)}\n",
      "{'_id': ObjectId('66ec77099017aa2bfe2a786b'), 'ProductID': 109, 'ProductName': 'Smart TV', 'Category': 'Electronics', 'Price': 399.99, 'Rating': 4.7, 'ReviewCount': 150, 'Stock': 25, 'Discount': 15.0, 'Brand': 'Samsung', 'LaunchDate': datetime.datetime(2022, 6, 10, 0, 0)}\n",
      "{'_id': ObjectId('66ec77099017aa2bfe2a786c'), 'ProductID': 110, 'ProductName': 'Vacuum Cleaner', 'Category': 'Home & Kitchen', 'Price': 129.99, 'Rating': 4.3, 'ReviewCount': 290, 'Stock': 70, 'Discount': 10.0, 'Brand': 'Dyson', 'LaunchDate': datetime.datetime(2021, 10, 20, 0, 0)}\n"
     ]
    }
   ],
   "source": [
    "import pandas as pd\n",
    "from pymongo import MongoClient\n",
    "\n",
    "# Connect to MongoDB\n",
    "client = MongoClient('mongodb://localhost:27017/')\n",
    "db = client['product_db']\n",
    "collection = db['products']\n",
    "\n",
    "def generate_mongo_query(column, condition, value):\n",
    "    \"\"\"Generates a MongoDB query based on the user input.\"\"\"\n",
    "    # For numerical comparisons\n",
    "    if condition == \"greater than\":\n",
    "        query = {column: {\"$gt\": float(value)}}\n",
    "    elif condition == \"less than\":\n",
    "        query = {column: {\"$lt\": float(value)}}\n",
    "    elif condition == \"equal to\":\n",
    "        query = {column: {\"$eq\": value}}\n",
    "    \n",
    "    # For string-based matches\n",
    "    elif condition == \"matches\":\n",
    "        query = {column: value}\n",
    "    \n",
    "    # Add more conditions as needed\n",
    "    else:\n",
    "        query = {}\n",
    "    \n",
    "    return query\n",
    "\n",
    "def retrieve_data(query):\n",
    "    \"\"\"Retrieve data from MongoDB based on the generated query.\"\"\"\n",
    "    result = collection.find(query)\n",
    "    return list(result)\n",
    "\n",
    "def display_data(data):\n",
    "    \"\"\"Display data in a readable format.\"\"\"\n",
    "    for document in data:\n",
    "        print(document)\n",
    "\n",
    "def user_interface():\n",
    "    \"\"\"Command-line interface for querying MongoDB.\"\"\"\n",
    "    print(\"Welcome to the Product Query System\")\n",
    "    \n",
    "    # Get the column name\n",
    "    column = input(\"Enter the column name you want to query: \")\n",
    "    \n",
    "    # Get the condition\n",
    "    condition = input(\"Enter the condition (greater than, less than, equal to, matches): \")\n",
    "    \n",
    "    # Get the value for the condition\n",
    "    value = input(\"Enter the value to compare against: \")\n",
    "    \n",
    "    # Generate MongoDB query\n",
    "    query = generate_mongo_query(column, condition, value)\n",
    "    print(f\"Generated Query: {query}\")\n",
    "    \n",
    "    # Retrieve data based on the query\n",
    "    data = retrieve_data(query)\n",
    "    \n",
    "    # Display data\n",
    "    if data:\n",
    "        display_data(data)\n",
    "    else:\n",
    "        print(\"No matching records found.\")\n",
    "\n",
    "# Run the interface\n",
    "if __name__ == \"__main__\":\n",
    "    user_interface()\n"
   ]
  },
  {
   "cell_type": "markdown",
   "id": "8e031db0",
   "metadata": {},
   "source": [
    "### Table form"
   ]
  },
  {
   "cell_type": "code",
   "execution_count": 26,
   "id": "699b6c2e",
   "metadata": {},
   "outputs": [],
   "source": [
    "import pandas as pd\n",
    "\n",
    "def display_data(data):\n",
    "    \"\"\"Display data in a tabular format using Pandas.\"\"\"\n",
    "    if data:\n",
    "        df = pd.DataFrame(data)\n",
    "        # Drop MongoDB internal ID if not needed\n",
    "        if '_id' in df.columns:\n",
    "            df.drop('_id', axis=1, inplace=True)\n",
    "        print(df.to_string(index=False))\n",
    "    else:\n",
    "        print(\"No matching records found.\")\n"
   ]
  },
  {
   "cell_type": "markdown",
   "id": "ba78bc67",
   "metadata": {},
   "source": [
    "### Pretty table"
   ]
  },
  {
   "cell_type": "code",
   "execution_count": 27,
   "id": "9becbe92",
   "metadata": {},
   "outputs": [],
   "source": [
    "from prettytable import PrettyTable\n",
    "\n",
    "def display_data(data):\n",
    "    \"\"\"Display data in a human-readable table format using PrettyTable.\"\"\"\n",
    "    if data:\n",
    "        # Get the field names (keys of the first document)\n",
    "        if len(data) > 0:\n",
    "            headers = data[0].keys()\n",
    "        else:\n",
    "            headers = []\n",
    "\n",
    "        # Initialize PrettyTable with headers\n",
    "        table = PrettyTable(headers)\n",
    "        \n",
    "        # Add rows to the table\n",
    "        for document in data:\n",
    "            row = [document.get(header, '') for header in headers]\n",
    "            table.add_row(row)\n",
    "        \n",
    "        # Print the table\n",
    "        print(table)\n",
    "    else:\n",
    "        print(\"No matching records found.\")\n"
   ]
  },
  {
   "cell_type": "code",
   "execution_count": null,
   "id": "8acd06cb",
   "metadata": {},
   "outputs": [],
   "source": []
  },
  {
   "cell_type": "code",
   "execution_count": null,
   "id": "77d22d89",
   "metadata": {},
   "outputs": [],
   "source": []
  }
 ],
 "metadata": {
  "kernelspec": {
   "display_name": "Python 3 (ipykernel)",
   "language": "python",
   "name": "python3"
  },
  "language_info": {
   "codemirror_mode": {
    "name": "ipython",
    "version": 3
   },
   "file_extension": ".py",
   "mimetype": "text/x-python",
   "name": "python",
   "nbconvert_exporter": "python",
   "pygments_lexer": "ipython3",
   "version": "3.10.9"
  }
 },
 "nbformat": 4,
 "nbformat_minor": 5
}
